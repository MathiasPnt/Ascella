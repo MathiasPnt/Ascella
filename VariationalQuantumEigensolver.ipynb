{
 "cells": [
  {
   "attachments": {},
   "cell_type": "markdown",
   "metadata": {},
   "source": [
    "# Variational Quantum Eigensolver on Ascella\n",
    "\n",
    "This notebook performs a VQE [1,2] either on a local Ascella simulator, or on Quandela Cloud, by mapping phases directly on to the layout of the chip. It requires a cloud token.\n",
    "\n",
    "The overall idea of the VQE algorithm is to optimise the value of: $E_0 \\leq \\langle {\\psi (\\theta)} | \\hat H |  {\\psi (\\theta)} \\rangle$.\n",
    "\n",
    "This notebook walks through the steps to do so.\n"
   ]
  },
  {
   "cell_type": "markdown",
   "metadata": {
    "collapsed": false
   },
   "source": [
    "<img src=\"/Users/pe/codes/perceval/VQE/VQE1.png\" width=\"1000\" align=\"center\"/>"
   ]
  },
  {
   "cell_type": "code",
   "execution_count": 1,
   "metadata": {},
   "outputs": [],
   "source": [
    "# OpenFermion\n",
    "from openfermionpyscf import generate_molecular_hamiltonian\n",
    "from openfermion.chem import MolecularData\n",
    "from openfermion import get_fermion_operator\n",
    "from openfermion import symmetry_conserving_bravyi_kitaev\n",
    "\n",
    "# Perceval\n",
    "import perceval as pcvl\n",
    "\n",
    "# Numpy\n",
    "import numpy as np\n",
    "\n",
    "# Optimize\n",
    "from scipy.optimize import minimize\n",
    "\n",
    "# Other useful packages\n",
    "import time\n",
    "from IPython import display\n",
    "import matplotlib.pyplot as plt\n",
    "from copy import deepcopy\n"
   ]
  },
  {
   "cell_type": "markdown",
   "metadata": {
    "collapsed": false
   },
   "source": [
    "To run jobs on the [Quandela cloud](https://cloud.quandela.com) you should create an account to get a token that you can enter in the cell below."
   ]
  },
  {
   "cell_type": "code",
   "execution_count": 2,
   "metadata": {
    "collapsed": false
   },
   "outputs": [],
   "source": [
    "token_qcloud = ''"
   ]
  },
  {
   "cell_type": "markdown",
   "metadata": {
    "collapsed": false
   },
   "source": [
    "## Obtaining the Hamiltonian from OpenFermion"
   ]
  },
  {
   "cell_type": "markdown",
   "metadata": {
    "collapsed": false
   },
   "source": [
    "*OpenFermion* [3] allows to generate the target Hamiltonian for the system of interest (here a H$_2$ molecule for instance). It can be used as the following:"
   ]
  },
  {
   "cell_type": "code",
   "execution_count": 3,
   "metadata": {},
   "outputs": [
    {
     "name": "stdout",
     "output_type": "stream",
     "text": [
      "-0.3399536134414944 [] +\n",
      "0.1812888082114959 [X0 X1] +\n",
      "0.3939836794385142 [Z0] +\n",
      "0.01123658523318205 [Z0 Z1] +\n",
      "0.39398367943851414 [Z1]\n"
     ]
    }
   ],
   "source": [
    "basis = 'sto-3g' \n",
    "# This is our choice of basis set. STO-nG basis sets are minimal basis sets, where n primitive Gaussian orbitals are fitted to a single Slater-type orbital (STO). STO-3G is the best choice for our problem. More info here: https://en.wikipedia.org/wiki/STO-nG_basis_sets\n",
    "\n",
    "multiplicity = 1 \n",
    "# The multiplicity of a chemical bond is determined by the number of electron pairs that occupy the region between the two bonded atoms in bonding molecular orbitals, in our case it is 1.\n",
    "\n",
    "geometry = [('H', (0.,  0., 0.)), ('H', (0., 0., 0.7414))] \n",
    "# 2 H atoms separated by 0.7414 Angstrom on the z axis\n",
    "\n",
    "molecule = MolecularData(geometry, basis, multiplicity) \n",
    "# This function builds our molecule object where we can find information about the molecule.\n",
    "\n",
    "Mol_Ham = generate_molecular_hamiltonian(geometry,basis,multiplicity) \n",
    "# We generate our molecular Hamiltonian, writing it in terms of electronic orbitals\n",
    "\n",
    "Ferm = get_fermion_operator(Mol_Ham) \n",
    "# Here we create the fermionic operator of our Hamiltonian, which is the hamiltonian in terms of creation and annihilation operators.\n",
    "\n",
    "qubit_hamiltonian = symmetry_conserving_bravyi_kitaev(Ferm, 4, 2) \n",
    "# Then we have our Fermion to Qubit mapping, this transforms the fermionic hamiltonian to the qubit hamiltonian used for the VQE, other examples include Jordan Wigner and Bravyi Kitaev.\n",
    "\n",
    "print(qubit_hamiltonian) \n",
    "# Display the hamiltonian"
   ]
  },
  {
   "cell_type": "markdown",
   "metadata": {
    "collapsed": false
   },
   "source": [
    "We can iterate this procedure by looping over bound lengths of interest to get the coefficients of the effective Hamiltonian and then obtain the ground state energy for varying bound lengths."
   ]
  },
  {
   "cell_type": "code",
   "execution_count": 4,
   "metadata": {
    "collapsed": false
   },
   "outputs": [],
   "source": [
    "# Qubit Hamiltonian for Optimal Radius of H2\n",
    "h_names = [\n",
    "    'II',\n",
    "    'ZI',\n",
    "    'IZ',\n",
    "    'ZZ',\n",
    "    'XX']\n",
    "h_weights = [\n",
    "    -0.33992710211913285,\n",
    "    0.3939976345768911,\n",
    "    0.3939976345768911,\n",
    "    0.011236740873436846,\n",
    "    0.1812875356724251]"
   ]
  },
  {
   "cell_type": "markdown",
   "metadata": {
    "collapsed": false
   },
   "source": [
    "## Functions for Fock states to qubit states"
   ]
  },
  {
   "attachments": {},
   "cell_type": "markdown",
   "metadata": {},
   "source": [
    "First we need to define the function that will identify the qubits to be measured for calculation of the energy, we also need to translate from the photonic Fock basis to the Qubit Hilbert basis.\n"
   ]
  },
  {
   "cell_type": "code",
   "execution_count": 5,
   "metadata": {},
   "outputs": [
    {
     "name": "stdout",
     "output_type": "stream",
     "text": [
      "|0,0,1,0,1,0,0,0,0,0,0,0> is interpreted as  [0. 0.]\n",
      "|0,0,1,0,0,1,0,0,0,0,0,0> is interpreted as  [0. 1.]\n",
      "|0,0,0,1,1,0,0,0,0,0,0,0> is interpreted as  [1. 0.]\n",
      "|0,0,0,1,0,1,0,0,0,0,0,0> is interpreted as  [1. 1.]\n"
     ]
    }
   ],
   "source": [
    "def measures(pauli_string: str) -> list:\n",
    "    \"\"\"This function takes a Pauli string and returns exactly which qubits are relevant to be measured.\"\"\"\n",
    "    measured_qubits = []\n",
    "    for i, pauli_op in enumerate(pauli_string):\n",
    "\n",
    "        #If the Pauli is a Z or an X, we measure the corresponding qubit, whereas when it is an I the qubit is not measured.\n",
    "        if pauli_op == \"X\":\n",
    "            measured_qubits.append(i)\n",
    "            \n",
    "        if pauli_op == \"Z\":\n",
    "            measured_qubits.append(i)\n",
    "    \n",
    "    return measured_qubits \n",
    "\n",
    "def Photon_to_Qubit(state: pcvl.BasicState) -> np.array:\n",
    "    \"\"\"This function takes a state in the photonic basis and translate it in to the Qubit basis which is relevant for VQE.\"\"\"\n",
    "\n",
    "    numpy_state = np.array(state[:len(state)]) #Changing the Basicstate object to a numpy array\n",
    "    \n",
    "    numpy_state = np.delete(numpy_state,[0,1,5,6,7,8,9,10]) #Deleting the Ancillary modes so we are only left with modes of interest\n",
    "\n",
    "    Qubit_state = np.zeros(numpy_state.size // 2) #Setting the size of the Qubit state\n",
    "    \n",
    "    #The following block changes the relevant photonic modes in to the Qubit basis.\n",
    "    for i in range(0, numpy_state.size, 2):\n",
    "        if numpy_state[i] == 0:\n",
    "            Qubit_state[i // 2] = 1\n",
    "        else:\n",
    "            Qubit_state[i // 2] = 0  \n",
    "\n",
    "\n",
    "    \n",
    "    return Qubit_state\n",
    "\n",
    "#Example\n",
    "print(\"|0,0,1,0,1,0,0,0,0,0,0,0> is interpreted as \",Photon_to_Qubit(pcvl.BasicState([0,0,1,0,1,0,0,0,0,0,0,0])))\n",
    "print(\"|0,0,1,0,0,1,0,0,0,0,0,0> is interpreted as \",Photon_to_Qubit(pcvl.BasicState([0,0,1,0,0,1,0,0,0,0,0,0])))\n",
    "print(\"|0,0,0,1,1,0,0,0,0,0,0,0> is interpreted as \",Photon_to_Qubit(pcvl.BasicState([0,0,0,1,1,0,0,0,0,0,0,0])))\n",
    "print(\"|0,0,0,1,0,1,0,0,0,0,0,0> is interpreted as \",Photon_to_Qubit(pcvl.BasicState([0,0,0,1,0,1,0,0,0,0,0,0])))"
   ]
  },
  {
   "cell_type": "markdown",
   "metadata": {
    "collapsed": false
   },
   "source": [
    "## Functions to set phases on Ascella"
   ]
  },
  {
   "attachments": {},
   "cell_type": "markdown",
   "metadata": {},
   "source": [
    "Next we define the functions that will map the parameters to the values of the phases to set on Ascella. We need a function (i) to bring the chip back to identity, (ii) a CNOT gate for entanglement (green block) and (iii) Hadamard gates for basis rotation (orange phase-shifters). The CNOT and Hadamard gates have been optimised by the transpilation algorithm so that the phases have been pre-computed.\n"
   ]
  },
  {
   "cell_type": "markdown",
   "metadata": {
    "collapsed": false
   },
   "source": [
    "<img src=\"/Users/pe/codes/perceval/VQE/VQE2.png\" width=\"1000\" align=\"center\"/>"
   ]
  },
  {
   "cell_type": "code",
   "execution_count": 6,
   "metadata": {},
   "outputs": [],
   "source": [
    "def set_phases_cnot_new(chip_params):\n",
    "    \"\"\"Set-up optimized cnot gate on 1scella chip starting at position 12\n",
    "\n",
    "        chip_params: parameters of the chip\n",
    "    \"\"\"\n",
    "\n",
    "    # List of values obtained by transpilation for the CNOT\n",
    "    opt_cnot_on_ascella_new = {34: 0.717409337404176,\n",
    "                               35: 1.11707773166768,\n",
    "                               36: 3.14159781999088,\n",
    "                               37: 3.37307200960087,\n",
    "                               38: 3.14160504367710,\n",
    "                               39: 4.07326092027237,\n",
    "                               46: 3.14159002437864,\n",
    "                               47: 2.17828831668636,\n",
    "                               48: 4.72958177994030,\n",
    "                               49: 0.192686625451998,\n",
    "                               56: 4.83803136449134,\n",
    "                               57: 2.05109237059823,\n",
    "                               58: 1.20654363849305,\n",
    "                               59: 2.12774383027317,\n",
    "                               60: 5.07665821117925,\n",
    "                               61: 2.16109990214002,\n",
    "                               68: 3.14160617038599,\n",
    "                               69: 2.84953160140033,\n",
    "                               70: 1.55361692035105,\n",
    "                               71: 3.27308092256776}\n",
    "\n",
    "    # Set the values in the chip\n",
    "    for idx, values in opt_cnot_on_ascella_new.items():\n",
    "        chip_params[idx].set_value(values)\n",
    "    pass\n",
    "        \n",
    "def set_phases_identity(params):\n",
    "    \"\"\" This function sets the full chip to be identity\n",
    "    \"\"\"\n",
    "    for idx, p in enumerate(params):\n",
    "        if idx in (101,112,103,114): #Leaves the hadamard phases blank\n",
    "            continue\n",
    "        if idx in [7,8,9,10,11,18,19,20,21,29,30,31,32,33,40,41,42,43,51,52,53,54,55,62,63,64,65,73,74,75,76,77,\n",
    "                   84,85,86,87,95,96,97,98,99,106,107,108,109,117,118,119,120,121,128,129,130,131,123,127] or idx%2==1:\n",
    "            p.set_value(0)\n",
    "        else:\n",
    "            p.set_value(np.pi) #The rest of the phases are set for identity\n",
    "    pass\n",
    "\n",
    "def get_phases_hadamard_gate():\n",
    "    \"\"\"Get phases for Hadamard gate for the X measurement\"\"\"\n",
    "    return {101: np.pi/2, 112: -np.pi/2, 103: np.pi/2, 114: -np.pi/2 }\n",
    "\n",
    "\n",
    "def get_phases_identity_gate():\n",
    "    \"\"\"Get phases for identity for Z measurement\"\"\"\n",
    "    return {p: float(p%2==0 and np.pi or 0) for p in (101,112,103,114)}\n",
    "\n"
   ]
  },
  {
   "attachments": {},
   "cell_type": "markdown",
   "metadata": {},
   "source": [
    "Next we define the function which takes the variable parameters of the circuit on which we actually perform the learning algorithm and assigns them a value. They correspond to the black phase-shifters on the figure above."
   ]
  },
  {
   "cell_type": "code",
   "execution_count": 7,
   "metadata": {},
   "outputs": [],
   "source": [
    "def set_phases_variables(chip_params, lp):\n",
    "\n",
    "    \"\"\"These are the variable parameters for the optimisation, \n",
    "       Chip_params are the parameters of the chip\n",
    "       lp are the variables used for optimisation\"\"\"\n",
    "\n",
    "    chip_params[2].set_value(lp[0])\n",
    "    chip_params[3].set_value(lp[1])\n",
    "    chip_params[4].set_value(lp[2])\n",
    "    chip_params[5].set_value(lp[3])\n",
    "    chip_params[12].set_value(lp[4])\n",
    "    chip_params[13].set_value(lp[5])\n",
    "    chip_params[14].set_value(lp[6])\n",
    "    chip_params[15].set_value(lp[7])\n",
    "    chip_params[24].set_value(lp[8])\n",
    "    chip_params[25].set_value(lp[9])\n",
    "    chip_params[26].set_value(lp[10])\n",
    "    chip_params[27].set_value(lp[11])\n",
    "    chip_params[78].set_value(lp[12])\n",
    "    chip_params[79].set_value(lp[13])\n",
    "    chip_params[80].set_value(lp[14])\n",
    "    chip_params[81].set_value(lp[15])\n",
    "    chip_params[90].set_value(lp[16])\n",
    "    chip_params[91].set_value(lp[17])\n",
    "    chip_params[92].set_value(lp[17])\n",
    "    chip_params[93].set_value(lp[19])\n",
    "    chip_params[100].set_value(lp[18])\n",
    "    chip_params[102].set_value(lp[19])\n",
    "\n",
    "    pass"
   ]
  },
  {
   "cell_type": "markdown",
   "metadata": {
    "collapsed": false
   },
   "source": [
    "## Error mitigation"
   ]
  },
  {
   "attachments": {},
   "cell_type": "markdown",
   "metadata": {},
   "source": [
    "We also use an error mitigation scheme to suppress state preparation and measurement error errors and that allow us to more consistently converge to the optimal ground state energy. We directly define the inverse matrices $\\Gamma^{-1}_b$ for Z and X basis measurements that we have pre-computed in a separate code."
   ]
  },
  {
   "cell_type": "code",
   "execution_count": 8,
   "metadata": {},
   "outputs": [],
   "source": [
    "Error_Matrix_X = np.array([\n",
    "                        [1.0000001, -0.026, -0.026, 0],\n",
    "                        [-0.000000025, 1.0435, 0, -0.000000025],\n",
    "                        [-0.000000025, 0, 1.0435, -0.000000025],\n",
    "                        [0, -0.026, -.026, 1.00000001]\n",
    "                          ])\n",
    "\n",
    "Error_matrix_Z = np.array([\n",
    "                        [1.0000001, -0.033, -0.033, 0],\n",
    "                        [-0.000000025, 1.065, 0, -0.000000025],\n",
    "                        [-0.000000025, 0, 1.065, -0.000000025],\n",
    "                        [0, -0.033, -0.033, 1.0000001]\n",
    "                          ])"
   ]
  },
  {
   "cell_type": "markdown",
   "metadata": {
    "collapsed": false
   },
   "source": [
    "## Loss function"
   ]
  },
  {
   "attachments": {},
   "cell_type": "markdown",
   "metadata": {},
   "source": [
    "We now define the functions that construct expectation values in the Z and X basis. For a given state $\\psi$, the following functions compute the average values $<\\psi|ZI|\\psi>$, $<\\psi|IZ|\\psi>$, $<\\psi|ZZ|\\psi>$ and $<\\psi|XX|\\psi>$"
   ]
  },
  {
   "cell_type": "code",
   "execution_count": 9,
   "metadata": {},
   "outputs": [],
   "source": [
    "# Fock states corresponding the logical states |00>, |01>, |10> and |11>\n",
    "output_states = [pcvl.BasicState([0,0,1,0,1,0,0,0,0,0,0,0]),\n",
    "                 pcvl.BasicState([0,0,1,0,0,1,0,0,0,0,0,0]),\n",
    "                 pcvl.BasicState([0,0,0,1,1,0,0,0,0,0,0,0]),\n",
    "                 pcvl.BasicState([0,0,0,1,0,1,0,0,0,0,0,0])]\n",
    "\n",
    "\n",
    "def compute_weighted_average_Z(h_names, h_weights, s, processor) -> float:\n",
    "\n",
    "    r\"\"\"Compute the expectation values of operators in the Z-basis.\n",
    "\n",
    "    We take as input the Pauli words (h_names), and the weights corresponding to each Pauli word (h_weights).\n",
    "    Also we take the index s and the processor (circuit) we have built for the measurement\n",
    "    \"\"\"\n",
    "\n",
    "    measured_qubits = [0,0,0,0] # Here we set up the array to store which qubits are measured for each Pauli word.\n",
    "\n",
    "    for i in range(4):\n",
    "        measured_qubits[i] = measures(h_names[i]) \n",
    "    #We use the function from earlier to see which qubits are measured for each Pauli word.\n",
    "\n",
    "    avg = 0\n",
    "    results = s['results']\n",
    "    total_samples = 0\n",
    "    results_vector = []\n",
    "\n",
    "\n",
    "    for output_state in output_states:\n",
    "        total_samples +=results[output_state]\n",
    "    #We calculate the total valid samples which will be used for averaging.\n",
    "\n",
    "    for output_state in output_states:\n",
    "        results_vector.append(results[output_state]/total_samples)\n",
    "    #We create a vector which stores the probability of measuring each state.\n",
    "\n",
    "\n",
    "    results_vector = np.array(results_vector)\n",
    "\n",
    "    if processor.name == 'Local processor': # No error mitigation in Local simulation.\n",
    "        pass\n",
    "\n",
    "    else: # error mitigate the result if run on the cloud.\n",
    "        results_vector = Error_matrix_Z @ results_vector\n",
    "\n",
    "    results_vector = results_vector/np.linalg.norm(results_vector,ord=1) #Normalise the results probability vector.\n",
    "\n",
    "\n",
    "    '''This block now multiplies the probability of each state by the corresponding weight.'''   \n",
    "\n",
    "    avg += results_vector[0]*h_weights[1]\n",
    "    avg += results_vector[1]*h_weights[1]\n",
    "    avg -= results_vector[2]*h_weights[1]\n",
    "    avg -= results_vector[3]*h_weights[1]\n",
    "\n",
    "\n",
    "    avg += results_vector[0]*h_weights[2]\n",
    "    avg -= results_vector[1]*h_weights[2]\n",
    "    avg += results_vector[2]*h_weights[2]\n",
    "    avg -= results_vector[3]*h_weights[2]\n",
    "\n",
    "    avg += results_vector[0]*h_weights[3]\n",
    "    avg -= results_vector[1]*h_weights[3]\n",
    "    avg -= results_vector[2]*h_weights[3]\n",
    "    avg += results_vector[3]*h_weights[3]\n",
    "\n",
    "\n",
    "    return avg\n",
    "\n",
    "\n",
    "def compute_weighted_average_X(X_weight, s, processor) -> float:\n",
    "\n",
    "    r\"\"\"Compute the Expectation values of operators in the X-basis.\n",
    "\n",
    "    This block is much the same as the last one, except we measure in the X basis.\n",
    "    \"\"\"\n",
    "\n",
    "    avg = 0\n",
    "    results = s['results']\n",
    "    total_samples = 0\n",
    "    results_vector = []\n",
    "\n",
    "    for output_state in output_states:\n",
    "        total_samples+=results[output_state]\n",
    "    #We calculate the total valid samples which will be used for averaging.\n",
    "\n",
    "    for i,output_state in enumerate(output_states):\n",
    "        results_vector.append(results[output_state]/total_samples)\n",
    "    #We create a vector which stores the probability of measuring each state.\n",
    "\n",
    "    results_vector = np.array(results_vector)\n",
    "\n",
    "    if processor.name == 'Local processor': # No error mitigation in Local simulation.\n",
    "        pass\n",
    "\n",
    "    else: # error mitigate the result if run on the cloud.\n",
    "        results_vector = Error_Matrix_X@results_vector\n",
    "\n",
    "    results_vector = results_vector/np.linalg.norm(results_vector,ord=1) #Normalise the results probability vector.\n",
    "\n",
    "    '''This block now multiplies the probability of each state by the corresponding weight.'''   \n",
    "    \n",
    "    avg += results_vector[0]*X_weight\n",
    "    avg -= results_vector[1]*X_weight\n",
    "    avg -= results_vector[2]*X_weight\n",
    "    avg += results_vector[3]*X_weight\n",
    "\n",
    "    return avg\n"
   ]
  },
  {
   "attachments": {},
   "cell_type": "markdown",
   "metadata": {},
   "source": [
    "Next we define the loss function to be mimimised. This corresponds directly to the energy of the system $E = <\\psi|H|\\psi> = \\alpha <\\mathbb{I}\\mathbb{I}>+\\beta <Z \\mathbb{I}>+\\gamma <\\mathbb{I}  Z>+\\delta <Z  Z> +\\mu <X X>$ depending on the ansatz state $\\psi$ prepared with a set of parameters $x_{i}$."
   ]
  },
  {
   "cell_type": "code",
   "execution_count": 10,
   "metadata": {},
   "outputs": [],
   "source": [
    "def minimize_loss(lp, processor, params, sampling_size, circuit, h_names = None, h_weights = None):\n",
    "\n",
    "    global x_avg, z_avg\n",
    "    global loss_values_sim, loss_values_qpu, iteration, total_time\n",
    "\n",
    "    start_time = time.time()\n",
    "\n",
    "    # This block makes sure our phases are between 0-2*pi, the valid values for phases on chip.\n",
    "    for idx, v in enumerate(lp):\n",
    "        while lp[idx]<0:\n",
    "            lp[idx] += 2*np.pi\n",
    "        while lp[idx] >= 2 * np.pi:\n",
    "            lp[idx] -= 2 * np.pi\n",
    "\n",
    "    averages = []\n",
    "\n",
    "    #Defining the Values for the X-Measurement\n",
    "    X_weight = h_weights[4]\n",
    "\n",
    "    set_phases_variables(params, lp) #Setting the circuit to identity\n",
    "\n",
    "    processor.set_circuit(circuit)\n",
    "\n",
    "    parameters = [{'phi%d' % k: v for k, v in get_phases_identity_gate().items()},\n",
    "                  {'phi%d' % k: v for k, v in get_phases_hadamard_gate().items()}] \n",
    "    #Sets of chip parameters for Z and X measurement\n",
    "\n",
    "    print(f'Iteration {iteration+1}: Get {sampling_size} samples from {processor.name}...')\n",
    "\n",
    "    #Local Sampling\n",
    "    if processor.name == 'Local processor':\n",
    "        s = []\n",
    "        for ps in parameters:\n",
    "            for k, v in ps.items():\n",
    "                circuit.param(k).set_value(v)\n",
    "            sampler = pcvl.algorithm.Sampler(processor)\n",
    "            s.append(sampler.sample_count(sampling_size))    \n",
    "\n",
    "    #QPU sampling (Multiprocessing)            \n",
    "    else:\n",
    "        processor.set_parameter('parameter_iterator', parameters)\n",
    "        sampler = pcvl.algorithm.Sampler(processor)\n",
    "        job = sampler.sample_count\n",
    "        job.name = f'vqe:avg[{iteration}]'\n",
    "        job.execute_async(sampling_size)\n",
    "        while not job.is_complete:\n",
    "            time.sleep(1)\n",
    "\n",
    "        s: dict = job.get_results()['results_list']\n",
    "\n",
    "    z_avg = compute_weighted_average_Z(h_names, h_weights, s[0], processor)\n",
    "    \n",
    "    averages.append(z_avg)\n",
    "        \n",
    "    x_avg = compute_weighted_average_X(X_weight, s[1], processor)\n",
    "   \n",
    "    averages.append(x_avg)\n",
    "        \n",
    "    loss = sum(averages) + h_weights[0] #We sum all the averages of our QPU Measurements and add our Identity term.\n",
    "\n",
    "    total_time += time.time()-start_time\n",
    "\n",
    "    iteration += 1\n",
    "\n",
    "    print(f\"[{iteration}]: loss={loss}, time per iteration={total_time/iteration}\")\n",
    "\n",
    "    if processor.name == 'Local processor':\n",
    "        loss_values_sim.append(loss)\n",
    "    else:\n",
    "        loss_values_qpu.append(loss)\n",
    "    #We append the sim or qpu loss values \n",
    "        \n",
    "    H2_Real_Energy = -1.1367\n",
    "   \n",
    "\n",
    "    '''Plotting our results'''\n",
    "\n",
    "    display.clear_output(wait=True)\n",
    "\n",
    "    plt.rcParams['figure.figsize'] = [10, 5]\n",
    "    plt.rcParams['figure.dpi'] = 150\n",
    "\n",
    "    plt.plot(range(len(loss_values_sim)), loss_values_sim, label=f\"SIM : {min(loss_values_sim):.4f}\", c='#6ab5db', marker ='d')\n",
    "    if loss_values_qpu:\n",
    "        plt.plot(range(len(loss_values_qpu)), loss_values_qpu, label=f\"QPU : {min(loss_values_qpu):.4f}\", c='#6ab5db', marker ='d')\n",
    "\n",
    "    plt.axhline(H2_Real_Energy, label=f\"Theoretical value {H2_Real_Energy:.4f}\", c='#946cba',\n",
    "                linestyle='dashed')\n",
    "    plt.xlabel('Iterations')\n",
    "\n",
    "    plt.ylabel('Energy')\n",
    "   \n",
    "\n",
    "    plt.legend()\n",
    "    plt.show()\n",
    "   \n",
    "    \n",
    "    return loss"
   ]
  },
  {
   "attachments": {},
   "cell_type": "markdown",
   "metadata": {},
   "source": [
    "Putting it all together.\n",
    "\n",
    "We call our loss function in the scipy optimiser and graph the evolution of the loss function, as it converges to the ground state energy of H$_2$ for a given bound length."
   ]
  },
  {
   "cell_type": "code",
   "execution_count": 11,
   "metadata": {},
   "outputs": [],
   "source": [
    "iteration = 0\n",
    "total_time = 0\n",
    "x_avg = 0\n",
    "z_avg = 0\n",
    "loss_values_sim = []\n",
    "loss_values_qpu = []\n",
    "\n",
    "\n",
    "def VQE(h_names=None, h_weights=None, Local=False):\n",
    "\n",
    "    global iteration\n",
    "    # Circuit initialization\n",
    "\n",
    "    '''This block prepares the QPU for sampling, sets the phases and the postprocessing'''\n",
    "    \n",
    "    if Local == False:\n",
    "        processor = pcvl.RemoteProcessor(\"qpu:ascella\", token_qcloud)\n",
    "        circuit = processor.specs[\"specific_circuit\"] # We take the specifications of the Ascella chip.\n",
    "        processor.set_postprocess(lambda s: s[1]+s[6]==0) #Make sure no photons are in the ancillary modes.\n",
    "        params=circuit.get_parameters()\n",
    "        print(type(params))\n",
    "        processor.with_input(pcvl.BasicState([0, 0, 1, 0, 1, 0, 0, 0, 0, 0, 0, 0])) # Input state |00>\n",
    "        set_phases_identity(params) #Set identity\n",
    "        set_phases_cnot_new(params) #Set CNOT\n",
    "\n",
    "\n",
    "\n",
    "    '''This block does the same for the local circuit'''\n",
    "\n",
    "    def mzi_clements(i):\n",
    "        theta = pcvl.BS.r_to_theta(0.565)\n",
    "        return pcvl.Circuit(2)  // pcvl.BS(theta) // (1, pcvl.PS(pcvl.P(f\"phi{2*i}\"))) \\\n",
    "           // pcvl.BS(theta) // (1,pcvl.PS(pcvl.P(f\"phi{2*i+1}\"))) #This MZI is the building block of the Ascella chip\n",
    "    local_circuit = pcvl.Circuit.generic_interferometer(12,mzi_clements) #This gives a 12x12 block of MZIs which is equivalent to Ascella\n",
    "    '''Here we have defined the Ascella architecture'''\n",
    "\n",
    "    local_processor = pcvl.Processor(\"SLOS\", 12)\n",
    "    local_params=local_circuit.get_parameters()\n",
    "    local_processor.set_postprocess(lambda s: s[1]+s[6]==0)\n",
    "    local_processor.with_input(pcvl.BasicState([0, 0, 1, 0, 1, 0, 0, 0, 0, 0, 0, 0]))\n",
    "    set_phases_identity(local_params)\n",
    "    set_phases_cnot_new(local_params)\n",
    "\n",
    "\n",
    "    method = \"COBYLA\" #Classical optimiser, other examples are Nelder-Mead, Powell etc.\n",
    "\n",
    "    options = {\"tol\": 1e-4, \"maxiter\":120}  #Sets the convergence criteria and maximum number of iterations\n",
    "\n",
    "    sampling_size = 100000\n",
    "\n",
    "    init_param = [1.88049275, 0.13030553, 2.34082327, 1.66621732, 1.70068762, 2.05938886,\n",
    "    1.77366577, 0.13684104, 0.51453294, 0.6594264, 5.45053489 ,3.97656782,\n",
    "    3.84236729, 4.49736331 ,4.54771989 ,0.4024555,  1.20773188 ,1.30513132,\n",
    "    4.41747557, 3.07358369]  #Initial parameters, can be set to random.\n",
    "\n",
    "\n",
    "    result = minimize(minimize_loss, init_param, args=(local_processor,\n",
    "                                                       local_params, sampling_size,\n",
    "                                                       local_circuit,h_names,h_weights),\n",
    "                      method=method, options=options) #Here we call the scipy optimisation for the local run.\n",
    "    \n",
    "  \n",
    "    if not Local:\n",
    "        iteration = 0\n",
    "        result = minimize(minimize_loss, init_param, args=(processor,\n",
    "                                                           params, sampling_size,circuit,h_names,h_weights),\n",
    "                method=method, options=options) #Here we call the scipy optimisation for the QPU run.\n",
    "    \n",
    "    print('init_param =',init_param)\n",
    "    return result.fun"
   ]
  },
  {
   "cell_type": "markdown",
   "metadata": {
    "collapsed": false
   },
   "source": [
    "And finally run the code:"
   ]
  },
  {
   "cell_type": "code",
   "execution_count": 12,
   "metadata": {
    "collapsed": false
   },
   "outputs": [
    {
     "data": {
      "image/png": "[encoded data removed]",
      "text/plain": [
       "<Figure size 1500x750 with 1 Axes>"
      ]
     },
     "metadata": {},
     "output_type": "display_data"
    },
    {
     "name": "stdout",
     "output_type": "stream",
     "text": [
      "init_param = [1.88049275, 0.13030553, 2.34082327, 1.66621732, 1.70068762, 2.05938886, 1.77366577, 0.13684104, 0.51453294, 0.6594264, 5.45053489, 3.97656782, 3.84236729, 4.49736331, 4.54771989, 0.4024555, 1.20773188, 1.30513132, 4.41747557, 3.07358369]\n"
     ]
    },
    {
     "data": {
      "text/plain": [
       "-1.1380078841020207"
      ]
     },
     "execution_count": 12,
     "metadata": {},
     "output_type": "execute_result"
    }
   ],
   "source": [
    "VQE(h_names=h_names, h_weights=h_weights, Local=True)"
   ]
  },
  {
   "cell_type": "markdown",
   "metadata": {
    "collapsed": false
   },
   "source": [
    "## References"
   ]
  },
  {
   "cell_type": "markdown",
   "metadata": {
    "collapsed": false
   },
   "source": [
    "[1] A. Peruzzo, J. McClean, P. Shadbolt, M.-H. Yung, X.-Q. Zhou, P. J. Love,A. Aspuru-Guzik, and J. L. O’Brien, “A variational eigenvalue solver on a photonicquantum processor”, [Nature Communications](https://www.nature.com/articles/ncomms5213) 5, 4213 (2014).\n",
    "\n",
    "[2] J. Tilly, H. Chen, S. Cao, et al., “The variational quantum eigensolver: a review of methods and best practices”. [Physics Reports](https://www.sciencedirect.com/science/article/pii/S0370157322003118), 2022, vol. 986, p. 1-128.\n",
    "\n",
    "[3] J. McClean, N. Rubin, K. Sung, et al., “Openfermion: the electronic structure package for quantum computers”. [Quantum Science and\n",
    "Technology](https://iopscience.iop.org/article/10.1088/2058-9565/ab8ebc)(3):034014, 2020."
   ]
  }
 ],
 "metadata": {
  "kernelspec": {
   "display_name": "Python 3 (ipykernel)",
   "language": "python",
   "name": "python3"
  },
  "language_info": {
   "codemirror_mode": {
    "name": "ipython",
    "version": 3
   },
   "file_extension": ".py",
   "mimetype": "text/x-python",
   "name": "python",
   "nbconvert_exporter": "python",
   "pygments_lexer": "ipython3",
   "version": "3.11.3"
  },
  "vscode": {
   "interpreter": {
    "hash": "5019a36c4d6c2c451fdadaec635d120c69bb4668c54a687106174fb79d382476"
   }
  }
 },
 "nbformat": 4,
 "nbformat_minor": 2
}
