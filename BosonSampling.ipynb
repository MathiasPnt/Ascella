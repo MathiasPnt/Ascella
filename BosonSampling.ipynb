{
 "cells": [
  {
   "cell_type": "code",
   "execution_count": 1,
   "outputs": [],
   "source": [
    "import numpy as np\n",
    "import matplotlib.pyplot as plt\n",
    "import seaborn as sns"
   ],
   "metadata": {
    "collapsed": false,
    "pycharm": {
     "name": "#%%\n"
    }
   }
  },
  {
   "cell_type": "code",
   "execution_count": 2,
   "outputs": [],
   "source": [
    "import perceval as pcvl"
   ],
   "metadata": {
    "collapsed": false,
    "pycharm": {
     "name": "#%%\n"
    }
   }
  },
  {
   "cell_type": "code",
   "execution_count": 3,
   "outputs": [],
   "source": [
    "token_qcloud = '<your token>'"
   ],
   "metadata": {
    "collapsed": false,
    "pycharm": {
     "name": "#%%\n"
    }
   }
  },
  {
   "cell_type": "code",
   "execution_count": 4,
   "outputs": [],
   "source": [
    "class BosonSampler:\n",
    "\n",
    "    def __init__(self,\n",
    "                 token,\n",
    "                 nphotons: int,\n",
    "                 nmodes: int):\n",
    "\n",
    "        self.token = token\n",
    "        self.nphotons = nphotons\n",
    "        self.nmodes = nmodes\n",
    "        self.compiled_circuit = None\n",
    "        self.circuit = None\n",
    "        self.input_state = None\n",
    "\n",
    "        self.theoretical_probability = dict()\n",
    "        self.experimental_distribution = None\n",
    "        self.experimental_probability = None\n",
    "\n",
    "        self.qpu_in_use = None\n",
    "        self.job_status = None\n",
    "        self.job_running = None\n",
    "\n",
    "    def generate_random_circuit(self):\n",
    "        haar_random = pcvl.Matrix.random_unitary(self.nmodes)\n",
    "        self.circuit = pcvl.components.Unitary(U=haar_random)\n",
    "\n",
    "    def generate_random_input(self):\n",
    "        self.input_state = self.nphotons*[1]+(self.nmodes-self.nphotons)*[0]\n",
    "        np.random.shuffle(self.input_state)\n",
    "\n",
    "    def get_outcome(self, output_state):\n",
    "        state = []\n",
    "        for m in str(output_state):\n",
    "            if m.isdigit():\n",
    "                state.append(int(m))\n",
    "        outcome = ''\n",
    "        for i in state:\n",
    "            if i>0:\n",
    "                outcome+='1'\n",
    "            else:\n",
    "                outcome+='0'\n",
    "\n",
    "        if outcome.count('1') == self.nphotons:\n",
    "            return outcome\n",
    "        else:\n",
    "            return None\n",
    "\n",
    "    def ground_truth(self,\n",
    "                     nsamples=1e12):\n",
    "\n",
    "        assert self.circuit is not None, 'You must first generate a random circuit'\n",
    "        assert self.input_state is not None, 'You must first generate a random input'\n",
    "\n",
    "        local_qpu = pcvl.Processor(backend_name=\"SLOS\", m_circuit=self.circuit)\n",
    "        local_qpu._n_moi=self.circuit.m\n",
    "        local_qpu.with_input(pcvl.BasicState(self.input_state))\n",
    "        local_qpu.mode_post_selection(1)\n",
    "\n",
    "        sampler = pcvl.algorithm.Sampler(local_qpu)\n",
    "        job = sampler.sample_count(nsamples)\n",
    "        sv_out = job['results']\n",
    "\n",
    "        e_t = {}\n",
    "        for output_state in sv_out:\n",
    "            outcome = self.get_outcome(output_state)\n",
    "            if outcome is not None:\n",
    "                    if outcome in e_t:\n",
    "                        e_t[outcome] += sv_out[output_state]\n",
    "                    else:\n",
    "                        e_t[outcome] = sv_out[output_state]\n",
    "        # Normalization\n",
    "        norm_factor = np.sum([e_t[x] for x in e_t.keys()])\n",
    "        dict_normed = {}\n",
    "        for outcome in e_t.keys():\n",
    "            dict_normed[outcome] = e_t[outcome] / norm_factor\n",
    "\n",
    "        self.theoretical_probability = dict_normed\n",
    "\n",
    "    def get_distribution(self, qpu='sim:ascella', nsamples=1000):\n",
    "\n",
    "        assert self.circuit is not None, 'You must first generate a random circuit'\n",
    "        assert self.input_state is not None, 'You must first generate a random input'\n",
    "\n",
    "        # Used compiled results to run the circuit on the HARDWARE\n",
    "        remote_qpu = pcvl.RemoteProcessor(qpu, token_qcloud)\n",
    "        remote_qpu.with_input(pcvl.BasicState(self.input_state))\n",
    "\n",
    "        remote_qpu.set_circuit(self.circuit)\n",
    "        remote_qpu.mode_post_selection(1)\n",
    "        sampler = pcvl.algorithm.Sampler(remote_qpu)\n",
    "\n",
    "        job = sampler.sample_count\n",
    "        async_job = job.execute_async(nsamples)\n",
    "\n",
    "        self.qpu_in_use = qpu\n",
    "        self.job_status = async_job\n",
    "        self.job_running = job\n",
    "\n",
    "    def analyse_distribution(self):\n",
    "\n",
    "        assert self.job_status.is_complete, 'Job is still running, please wait'\n",
    "\n",
    "        remote_processor = pcvl.RemoteProcessor(self.qpu_in_use, self.token)\n",
    "        job = remote_processor.resume_job(self.job_running.id)\n",
    "        sv_out = job.get_results()[\"results\"]\n",
    "\n",
    "        e_t = {}\n",
    "        for output_state in sv_out:\n",
    "            outcome = self.get_outcome(output_state)\n",
    "            if outcome is not None:\n",
    "                if outcome in e_t:\n",
    "                    e_t[outcome] += sv_out[output_state]\n",
    "                else:\n",
    "                    e_t[outcome] = sv_out[output_state]\n",
    "        # Normalizaiton\n",
    "        norm_factor = np.sum([e_t[x] for x in e_t.keys()])\n",
    "        e_t_normed = {}\n",
    "        for outcome in e_t:\n",
    "            e_t_normed[outcome] = e_t[outcome] / norm_factor\n",
    "\n",
    "        self.experimental_distribution = e_t\n",
    "        self.experimental_probability = e_t_normed"
   ],
   "metadata": {
    "collapsed": false,
    "pycharm": {
     "name": "#%%\n"
    }
   }
  },
  {
   "cell_type": "code",
   "execution_count": 5,
   "outputs": [],
   "source": [
    "# Utils\n",
    "def plot_distribution(BS):\n",
    "\n",
    "    fig, ax = plt.subplots()\n",
    "\n",
    "    x = sorted(BS.theoretical_probability.keys())\n",
    "    yth = [-BS.theoretical_probability[x] for x in x]\n",
    "    yexp = [BS.experimental_probability.get(x,0) for x in x]\n",
    "\n",
    "    bar1 = sns.barplot(ax = ax , x=x, y=yth, alpha=0.4, lw=0.)\n",
    "    bar2 = sns.barplot(ax = ax , x=x, y=yexp, lw=0.)\n",
    "    bar1.set_xticks([])\n",
    "    bar2.set_xticks([])\n",
    "\n",
    "    w = ax.get_yticks()\n",
    "    wmax = round(max(w),2)\n",
    "    ax.set_yticks([-wmax, -wmax/2, 0, wmax/2, wmax])\n",
    "    ax.set_yticklabels([str(wmax), str(wmax/2), 0, str(wmax/2), str(wmax)])\n",
    "\n",
    "    ax.set_ylabel( \"Probability\" , size = 32)\n",
    "    ax.grid(False)\n",
    "    ax.tick_params(direction='in', bottom=True, top=True, left=True, right=True, labelsize=30)\n",
    "\n",
    "    plt.show()\n",
    "\n",
    "def fidelity(BS):\n",
    "\n",
    "    F = 0\n",
    "    for basis in BS.theoretical_probability.keys():\n",
    "        if basis in BS.experimental_probability:\n",
    "            F+=np.sqrt(BS.theoretical_probability[basis]*BS.experimental_probability[basis])\n",
    "\n",
    "    # Error propagation\n",
    "    F_err = 0\n",
    "    norm_factor = np.sum([k for k in BS.experimental_distribution.values()])\n",
    "    for basis in BS.theoretical_probability:\n",
    "            if basis in BS.experimental_probability and BS.experimental_probability[basis]>0:\n",
    "                Delta_qi =  np.sqrt(BS.experimental_distribution[basis])/norm_factor\n",
    "                F_err+=np.sqrt((BS.theoretical_probability[basis])/(2*np.sqrt(BS.experimental_probability[basis])))*Delta_qi\n",
    "\n",
    "    return F, F_err\n",
    "\n",
    "def distance(BS):\n",
    "\n",
    "    D = 0\n",
    "    for basis in BS.theoretical_probability.keys():\n",
    "        if basis in BS.experimental_probability:\n",
    "            D+=abs(BS.theoretical_probability[basis]-BS.experimental_probability[basis])/2\n",
    "\n",
    "    # Error propagation\n",
    "    D_err = 0\n",
    "    norm_factor = np.sum([k for k in BS.experimental_distribution.values()])\n",
    "    for basis in BS.theoretical_probability:\n",
    "        if basis in BS.experimental_probability:\n",
    "            Delta_qi =  np.sqrt(BS.experimental_distribution[basis])/norm_factor\n",
    "            D_err += 1/2*Delta_qi\n",
    "\n",
    "    return D, D_err"
   ],
   "metadata": {
    "collapsed": false,
    "pycharm": {
     "name": "#%%\n"
    }
   }
  },
  {
   "cell_type": "code",
   "execution_count": 12,
   "outputs": [],
   "source": [
    "nphotons = 2\n",
    "nmodes = 12\n",
    "nsamples = 1e6\n",
    "platform = 'qpu:ascella'"
   ],
   "metadata": {
    "collapsed": false,
    "pycharm": {
     "name": "#%%\n"
    }
   }
  },
  {
   "cell_type": "code",
   "execution_count": 19,
   "outputs": [],
   "source": [
    "bs = BosonSampler(token=token_qcloud, nphotons=nphotons, nmodes=nmodes)\n",
    "\n",
    "bs.generate_random_circuit()\n",
    "bs.generate_random_input()"
   ],
   "metadata": {
    "collapsed": false,
    "pycharm": {
     "name": "#%%\n"
    }
   }
  },
  {
   "cell_type": "code",
   "execution_count": 23,
   "outputs": [],
   "source": [
    "# Compute the experimental distribution from the compiled circuit\n",
    "bs.get_distribution(qpu=platform, nsamples=nsamples)"
   ],
   "metadata": {
    "collapsed": false,
    "pycharm": {
     "name": "#%%\n"
    }
   }
  },
  {
   "cell_type": "code",
   "execution_count": 24,
   "outputs": [],
   "source": [
    "# Compute the experimental probabilities from the experimental distribution\n",
    "bs.analyse_distribution()\n",
    "# Compute theoretical probabilities from the unitary Haar matrix\n",
    "bs.ground_truth(nsamples=nsamples)"
   ],
   "metadata": {
    "collapsed": false,
    "pycharm": {
     "name": "#%%\n"
    }
   }
  },
  {
   "cell_type": "code",
   "execution_count": 25,
   "outputs": [
    {
     "name": "stdout",
     "output_type": "stream",
     "text": [
      "Fidelity = 0.99327±0.01164\n",
      "Distance = 0.08746±0.02302\n"
     ]
    }
   ],
   "source": [
    "F, errF = fidelity(bs)\n",
    "D, errD = distance(bs)\n",
    "print(f'Fidelity = {round(F,5)}±{round(errF,5)}')\n",
    "print(f'Distance = {round(D,5)}±{round(errD,5)}')"
   ],
   "metadata": {
    "collapsed": false,
    "pycharm": {
     "name": "#%%\n"
    }
   }
  },
  {
   "cell_type": "code",
   "execution_count": 17,
   "outputs": [
    {
     "data": {
      "text/plain": "<Figure size 640x480 with 1 Axes>",
      "image/png": "[encoded data removed]"
     },
     "metadata": {},
     "output_type": "display_data"
    }
   ],
   "source": [
    "plot_distribution(bs)"
   ],
   "metadata": {
    "collapsed": false,
    "pycharm": {
     "name": "#%%\n"
    }
   }
  }
 ],
 "metadata": {
  "kernelspec": {
   "display_name": "Python 3",
   "language": "python",
   "name": "python3"
  },
  "language_info": {
   "codemirror_mode": {
    "name": "ipython",
    "version": 2
   },
   "file_extension": ".py",
   "mimetype": "text/x-python",
   "name": "python",
   "nbconvert_exporter": "python",
   "pygments_lexer": "ipython2",
   "version": "2.7.6"
  }
 },
 "nbformat": 4,
 "nbformat_minor": 0
}